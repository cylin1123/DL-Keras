{
 "cells": [
  {
   "cell_type": "markdown",
   "metadata": {},
   "source": [
    "### 將MNIST的資料載入，並且進行標準化(normalization)\n",
    "~~~\n",
    "MNIST是一個手寫數字的資料包，分成訓練資料(training data)與測試資料(testing data)，x為圖片、y為所對應數字。\n",
    "載入的x為大小為28*28的圖片共60000張，且每個像素的數值介於0~255之間，標準化後介於0~1之間。\n",
    "載入的y為所對應的數字0~9，運用keras中的np_utils.to_categorical將y轉成one-hot的形式，轉為一個10維的vector\n",
    "~~~"
   ]
  },
  {
   "cell_type": "code",
   "execution_count": null,
   "metadata": {},
   "outputs": [],
   "source": [
    "from keras.datasets import mnist\n",
    "from keras.utils import np_utils\n",
    "\n",
    "def load_data():\n",
    "    X_train,Y_train,X_test,Y_test = mnist.load_data()"
   ]
  },
  {
   "cell_type": "code",
   "execution_count": null,
   "metadata": {},
   "outputs": [],
   "source": []
  },
  {
   "cell_type": "code",
   "execution_count": 7,
   "metadata": {},
   "outputs": [],
   "source": [
    "\n"
   ]
  },
  {
   "cell_type": "code",
   "execution_count": null,
   "metadata": {},
   "outputs": [],
   "source": []
  }
 ],
 "metadata": {
  "kernelspec": {
   "display_name": "Python 3",
   "language": "python",
   "name": "python3"
  },
  "language_info": {
   "codemirror_mode": {
    "name": "ipython",
    "version": 3
   },
   "file_extension": ".py",
   "mimetype": "text/x-python",
   "name": "python",
   "nbconvert_exporter": "python",
   "pygments_lexer": "ipython3",
   "version": "3.5.2"
  }
 },
 "nbformat": 4,
 "nbformat_minor": 2
}
